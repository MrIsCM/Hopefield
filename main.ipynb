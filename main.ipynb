{
 "cells": [
  {
   "attachments": {},
   "cell_type": "markdown",
   "metadata": {},
   "source": [
    "# Metropolis Algorithm - Hopefield Network\n",
    "\n",
    "Ismael CM\n",
    "19/12/2022"
   ]
  },
  {
   "cell_type": "code",
   "execution_count": 383,
   "metadata": {},
   "outputs": [],
   "source": [
    "import numpy as np\n",
    "import matplotlib.pyplot as plt"
   ]
  },
  {
   "cell_type": "code",
   "execution_count": 384,
   "metadata": {},
   "outputs": [],
   "source": [
    "def read_patern(path='Patern/patern.txt'):\n",
    "\tpatern = np.loadtxt(path, delimiter=',', dtype=np.uint8)\n",
    "\treturn patern"
   ]
  },
  {
   "cell_type": "code",
   "execution_count": 397,
   "metadata": {},
   "outputs": [],
   "source": [
    "def patern2point(patern):\n",
    "\t\"\"\"Convert a patern (matrix) to a list of points (x,y) where matrix[i][j] == 1\n",
    "\t\n",
    "\tx = j and y = -i + len(patern)\n",
    "\n",
    "\tExplenation:\n",
    "\t\tj selects the row (vertical movement) and i selects the column (horizontal movement)\n",
    "\t\tIn a plot, x corresponds to the horizontal axis and y to the vertical axis\n",
    "\n",
    "\t\tReversing i (i.e. -i) is necessary because the matrix is read from top to bottom. This is the same as reversing the y axis in a plot, so now everything is in the 4th quadrant.\n",
    "\t\tAdding len(patern) traslates everything to the 1st quadrant.\n",
    "\t\"\"\"\n",
    "\tx = []\n",
    "\ty = []\n",
    "\tfor i in range(len(patern)): \t\t\t# i is the row\n",
    "\t\tfor j in range(len(patern[i])): \t# j is the column\n",
    "\t\t\tif patern[i][j] == 1:\n",
    "\t\t\t\tx.append(j) \t\t    \t\n",
    "\t\t\t\ty.append(-i + len(patern)) \n",
    "\treturn x,y"
   ]
  },
  {
   "cell_type": "code",
   "execution_count": 412,
   "metadata": {},
   "outputs": [],
   "source": [
    "def average(net):\n",
    "\treturn np.average(net)"
   ]
  },
  {
   "cell_type": "code",
   "execution_count": 454,
   "metadata": {},
   "outputs": [],
   "source": [
    "def interaction(net):\n",
    "\ta = average(net)\n",
    "\tN = len(net)\n",
    "\tw = np.zeros((N, N, N, N)) \t\t# All zeros \n",
    "\tfor i in range(N):\n",
    "\t\tfor j in range(N):\n",
    "\t\t\tfor k in range(N):\n",
    "\t\t\t\tfor l in range(N):\n",
    "\t\t\t\t\tif (i != k) and (j != l): \t# so no need to do the case where i,j == k,l\n",
    "\t\t\t\t\t\tw[i][j][k][l] = (net[i][j] - a)*(net[k][l] - a)/N**2\n",
    "\t\t\t\t\t\t\n",
    "\treturn w"
   ]
  },
  {
   "cell_type": "code",
   "execution_count": 388,
   "metadata": {},
   "outputs": [],
   "source": [
    "def interaction2(net, N):\n",
    "\t# needs testing\n",
    "\ta = average(net)\n",
    "\tw = np.zeros((N, N, N, N)) \t\t# All zeros \n",
    "\tfor i in range(1, N):\n",
    "\t\tfor j in range(i, N):\n",
    "\t\t\tfor k in range(1, N):\n",
    "\t\t\t\tfor l in range(k, N):\n",
    "\t\t\t\t\tif (i, j) != (k, l): \t# so no need to do the case where i,j == k,l\n",
    "\t\t\t\t\t\tw[i][j][k][l] = (net[i][j] - a)*(net[k][l] - a)/N**2\n",
    "\t\t\t\t\t\tw[k][l][i][j] = w[i][j][k][l]\n",
    "\n",
    "\treturn w"
   ]
  },
  {
   "cell_type": "code",
   "execution_count": 455,
   "metadata": {},
   "outputs": [],
   "source": [
    "def activation(net):\n",
    "\tN = len(net)\n",
    "\tw = interaction(net)\n",
    "\ttheta = np.zeros((N, N))\n",
    "\tfor i in range(N):\n",
    "\t\tfor j in range(N):\n",
    "\t\t\tfor k in range(N):\n",
    "\t\t\t\tfor l in range(N):\n",
    "\t\t\t\t\ttheta[i][j] += 0.5*w[i][j][k][l]\n",
    "\treturn theta "
   ]
  },
  {
   "cell_type": "code",
   "execution_count": 456,
   "metadata": {},
   "outputs": [],
   "source": [
    "def difH(i, j, net, omega, theta):\n",
    "\tH = 0 \n",
    "\tN = len(net)\n",
    "\tfor k in range(N):\n",
    "\t\tfor l in range(N):\n",
    "\t\t\tif (k != i) and (l != j):\n",
    "\t\t\t\tH += omega[i][j][k][l]*net[i][j]\n",
    "\n",
    "\tH = (2*net[i][j]-1)*(H - theta[i][j]) \n",
    "\n",
    "\treturn H \n"
   ]
  },
  {
   "cell_type": "code",
   "execution_count": 424,
   "metadata": {},
   "outputs": [],
   "source": [
    "def Hamilt(net, omega, theta):\n",
    "\tH = 0 \n",
    "\tN = len(net)\n",
    "\tfor i in range(N):\n",
    "\t\tfor j in range(N):\n",
    "\t\t\tH += theta[i][j]*net[i][j]\n",
    "\t\t\tfor k in range(N):\n",
    "\t\t\t\tfor l in range(N):\n",
    "\t\t\t\t\tH += -0.5*omega[i][j][k][l]*net[i][j]*net[k][l]\n",
    "\treturn H"
   ]
  },
  {
   "cell_type": "code",
   "execution_count": 457,
   "metadata": {},
   "outputs": [
    {
     "data": {
      "image/png": "[encoded data removed]",
      "text/plain": [
       "<Figure size 640x480 with 1 Axes>"
      ]
     },
     "metadata": {},
     "output_type": "display_data"
    }
   ],
   "source": [
    "skull = read_patern(\"patern/skull.txt\")\n",
    "x, y = patern2point(skull)\n",
    "plt.scatter(x, y)\n",
    "plt.show()"
   ]
  },
  {
   "cell_type": "code",
   "execution_count": 458,
   "metadata": {},
   "outputs": [],
   "source": [
    "# Learning fase\n",
    "omega = interaction(skull)\n",
    "theta = activation(skull)"
   ]
  },
  {
   "cell_type": "code",
   "execution_count": 459,
   "metadata": {},
   "outputs": [
    {
     "name": "stdout",
     "output_type": "stream",
     "text": [
      "Paso MoneteCarlo 1\n",
      "Paso MoneteCarlo 2\n",
      "Paso MoneteCarlo 3\n",
      "Paso MoneteCarlo 4\n",
      "Paso MoneteCarlo 5\n",
      "Paso MoneteCarlo 6\n",
      "Paso MoneteCarlo 7\n",
      "Paso MoneteCarlo 8\n",
      "Paso MoneteCarlo 9\n",
      "Paso MoneteCarlo 10\n",
      "Paso MoneteCarlo 11\n",
      "Paso MoneteCarlo 12\n",
      "Paso MoneteCarlo 13\n",
      "Paso MoneteCarlo 14\n",
      "Paso MoneteCarlo 15\n"
     ]
    }
   ],
   "source": [
    "# Active fase\n",
    "net = np.zeros((len(skull), len(skull)), dtype=np.uint8)\n",
    "pMC = 15\n",
    "N = len(net)\n",
    "T = 0.0001\n",
    "for k in range(pMC):\n",
    "\t# if k%10 == 0:\n",
    "\t\t# Plot\n",
    "\tplt.figure()\n",
    "\tplt.imshow(net, cmap='binary')\n",
    "\tplt.title(f\"pMC = {k+1}\")\n",
    "\tplt.savefig(f\"Plot/pMC{k+1}.png\")\n",
    "\tplt.close()\n",
    "\t\n",
    "\tprint(f\"Paso MoneteCarlo {k+1}\")\n",
    "\tx = np.random.randint(0, N, size = N)\n",
    "\ty = np.random.randint(0, N, size = N)\n",
    "\tfor i in range(N):\n",
    "\t\tfor j in range(N):\n",
    "\t\t\tp = np.exp(-difH(x[i], y[j], net, omega, theta)/T)\n",
    "\t\t\tif p > 1:\n",
    "\t\t\t\tp=1\n",
    "\t\t\tif np.random.random() < p:\n",
    "\t\t\t\tnet[x[i]][y[j]] = 1 - net[x[i]][y[j]]"
   ]
  },
  {
   "cell_type": "code",
   "execution_count": 432,
   "metadata": {},
   "outputs": [
    {
     "name": "stdout",
     "output_type": "stream",
     "text": [
      "Error\n",
      "Error\n",
      "Error\n",
      "Error\n",
      "Error\n",
      "Error\n",
      "Error\n"
     ]
    },
    {
     "ename": "KeyboardInterrupt",
     "evalue": "",
     "output_type": "error",
     "traceback": [
      "\u001b[1;31m---------------------------------------------------------------------------\u001b[0m",
      "\u001b[1;31mKeyboardInterrupt\u001b[0m                         Traceback (most recent call last)",
      "Cell \u001b[1;32mIn[432], line 15\u001b[0m\n\u001b[0;32m     13\u001b[0m H1 \u001b[39m=\u001b[39m difH(x[i], y[j], net, omega, theta)\n\u001b[0;32m     14\u001b[0m s[x[i]][y[j]] \u001b[39m=\u001b[39m \u001b[39m1\u001b[39m \u001b[39m-\u001b[39m s[x[i]][y[j]]\n\u001b[1;32m---> 15\u001b[0m H2 \u001b[39m=\u001b[39m Hamilt(s, omega, theta)\n\u001b[0;32m     16\u001b[0m \u001b[39mif\u001b[39;00m H2 \u001b[39m!=\u001b[39m H1:\n\u001b[0;32m     17\u001b[0m \t\u001b[39mprint\u001b[39m(\u001b[39m\"\u001b[39m\u001b[39mError\u001b[39m\u001b[39m\"\u001b[39m)\n",
      "Cell \u001b[1;32mIn[424], line 9\u001b[0m, in \u001b[0;36mHamilt\u001b[1;34m(net, omega, theta)\u001b[0m\n\u001b[0;32m      7\u001b[0m \t\t\u001b[39mfor\u001b[39;00m k \u001b[39min\u001b[39;00m \u001b[39mrange\u001b[39m(N):\n\u001b[0;32m      8\u001b[0m \t\t\t\u001b[39mfor\u001b[39;00m l \u001b[39min\u001b[39;00m \u001b[39mrange\u001b[39m(N):\n\u001b[1;32m----> 9\u001b[0m \t\t\t\tH \u001b[39m+\u001b[39m\u001b[39m=\u001b[39m \u001b[39m-\u001b[39m\u001b[39m0.5\u001b[39m\u001b[39m*\u001b[39momega[i][j][k][l]\u001b[39m*\u001b[39mnet[i][j]\u001b[39m*\u001b[39mnet[k][l]\n\u001b[0;32m     10\u001b[0m \u001b[39mreturn\u001b[39;00m H\n",
      "\u001b[1;31mKeyboardInterrupt\u001b[0m: "
     ]
    }
   ],
   "source": [
    "iters = 5\n",
    "x = np.random.randint(0, N, iters)\n",
    "y = np.random.randint(0, N, iters)\n",
    "\n",
    "omega = interaction(skull)\n",
    "theta = activation(skull)\n",
    "\n",
    "s = skull.copy()\n",
    "\n",
    "for i in range(iters):\n",
    "\tfor j in range(iters):\n",
    "\t\ts = skull.copy()\n",
    "\t\tH1 = difH(x[i], y[j], net, omega, theta)\n",
    "\t\ts[x[i]][y[j]] = 1 - s[x[i]][y[j]]\n",
    "\t\tH2 = Hamilt(s, omega, theta)\n",
    "\t\tif H2 != H1:\n",
    "\t\t\tprint(\"Error\")\n",
    "\t\telse:\n",
    "\t\t\tprint(\"OK\")"
   ]
  }
 ],
 "metadata": {
  "kernelspec": {
   "display_name": "Python 3",
   "language": "python",
   "name": "python3"
  },
  "language_info": {
   "codemirror_mode": {
    "name": "ipython",
    "version": 3
   },
   "file_extension": ".py",
   "mimetype": "text/x-python",
   "name": "python",
   "nbconvert_exporter": "python",
   "pygments_lexer": "ipython3",
   "version": "3.11.0"
  },
  "orig_nbformat": 4,
  "vscode": {
   "interpreter": {
    "hash": "8bb183d6f65149bde25a8207ad2fb4989b2757aac3d3ec63796cdeb74924c51a"
   }
  }
 },
 "nbformat": 4,
 "nbformat_minor": 2
}
