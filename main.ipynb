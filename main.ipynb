{
 "cells": [
  {
   "attachments": {},
   "cell_type": "markdown",
   "metadata": {},
   "source": [
    "# Metropolis Algorithm - Hopefield Network\n",
    "\n",
    "Ismael CM\n",
    "19/12/2022"
   ]
  },
  {
   "cell_type": "code",
   "execution_count": 35,
   "metadata": {},
   "outputs": [],
   "source": [
    "import numpy as np\n",
    "import matplotlib.pyplot as plt\n",
    "import random "
   ]
  },
  {
   "cell_type": "code",
   "execution_count": 36,
   "metadata": {},
   "outputs": [],
   "source": [
    "def read_patern(path='Patern/patern.txt'):\n",
    "\tpatern = np.loadtxt(path, delimiter=',', dtype=np.uint8)\n",
    "\treturn patern"
   ]
  },
  {
   "cell_type": "code",
   "execution_count": 37,
   "metadata": {},
   "outputs": [],
   "source": [
    "def patern2point(patern):\n",
    "\t\"\"\"Convert a patern (matrix) to a list of points (x,y) where matrix[i][j] == 1\n",
    "\t\n",
    "\tx = j and y = -i + len(patern)\n",
    "\n",
    "\tExplenation:\n",
    "\t\tj selects the row (vertical movement) and i selects the column (horizontal movement)\n",
    "\t\tIn a plot, x corresponds to the horizontal axis and y to the vertical axis\n",
    "\n",
    "\t\tReversing i (i.e. -i) is necessary because the matrix is read from top to bottom. This is the same as reversing the y axis in a plot, so now everything is in the 4th quadrant.\n",
    "\t\tAdding len(patern) traslates everything to the 1st quadrant.\n",
    "\t\"\"\"\n",
    "\tx = []\n",
    "\ty = []\n",
    "\tfor i in range(len(patern)): \t\t\t# i is the row\n",
    "\t\tfor j in range(len(patern[i])): \t# j is the column\n",
    "\t\t\tif patern[i][j] == 1:\n",
    "\t\t\t\tx.append(j) \t\t    \t\n",
    "\t\t\t\ty.append(-i + len(patern)) \n",
    "\treturn x,y"
   ]
  },
  {
   "cell_type": "code",
   "execution_count": 38,
   "metadata": {},
   "outputs": [],
   "source": [
    "def average(net):\n",
    "\tavg = 0 \n",
    "\tfor i in range(len(net)):\n",
    "\t\tfor j in range(len(net[i])):\n",
    "\t\t\tavg += net[i][j]\n",
    "\n",
    "\treturn avg / (len(net) * len(net[0]))"
   ]
  },
  {
   "cell_type": "code",
   "execution_count": 39,
   "metadata": {},
   "outputs": [],
   "source": [
    "def interaction(net):\n",
    "\ta = average(net)\n",
    "\tN = len(net)\n",
    "\tw = np.zeros((N, N, N, N)) \t\t# All zeros \n",
    "\tfor i in range(N):\n",
    "\t\tfor j in range(N):\n",
    "\t\t\tfor k in range(N):\n",
    "\t\t\t\tfor l in range(N):\n",
    "\t\t\t\t\tif (i != k) and (j != l): \t# so no need to do the case where i,j == k,l\n",
    "\t\t\t\t\t\tw[i][j][k][l] = (net[i][j] - a)*(net[k][l] - a)/N**2\n",
    "\t\t\t\t\t\t\n",
    "\treturn w"
   ]
  },
  {
   "cell_type": "code",
   "execution_count": null,
   "metadata": {},
   "outputs": [],
   "source": [
    "def interaction2(net, N):\n",
    "\t# needs testing\n",
    "\ta = average(net)\n",
    "\tw = np.zeros((N, N, N, N)) \t\t# All zeros \n",
    "\tfor i in range(1, N):\n",
    "\t\tfor j in range(i, N):\n",
    "\t\t\tfor k in range(1, N):\n",
    "\t\t\t\tfor l in range(k, N):\n",
    "\t\t\t\t\tif (i, j) != (k, l): \t# so no need to do the case where i,j == k,l\n",
    "\t\t\t\t\t\tw[i][j][k][l] = (net[i][j] - a)*(net[k][l] - a)/N**2\n",
    "\t\t\t\t\t\tw[k][l][i][j] = w[i][j][k][l]\n",
    "\n",
    "\treturn w"
   ]
  },
  {
   "cell_type": "code",
   "execution_count": 40,
   "metadata": {},
   "outputs": [],
   "source": [
    "def activation(net):\n",
    "\tN = len(net)\n",
    "\tw = interaction(net)\n",
    "\ttheta = np.zeros((N, N))\n",
    "\tfor i in range(N):\n",
    "\t\tfor j in range(N):\n",
    "\t\t\tfor k in range(N):\n",
    "\t\t\t\tfor l in range(N):\n",
    "\t\t\t\t\ttheta[i][j] += 0.5*w[i][j][k][l]\n",
    "\treturn theta "
   ]
  },
  {
   "cell_type": "code",
   "execution_count": 41,
   "metadata": {},
   "outputs": [],
   "source": [
    "def difH(i, j, net, omega, theta):\n",
    "\tH = 0 \n",
    "\tN = len(net)\n",
    "\tfor k in range(N):\n",
    "\t\tfor l in range(N):\n",
    "\t\t\tif (k != i) and (l != j):\n",
    "\t\t\t\tH += omega[i][j][k][l]*net[i][j]\n",
    "\n",
    "\tH = (2*net[i][j]-1)*(H - theta[i][j]) \n",
    "\n",
    "\treturn H \n"
   ]
  },
  {
   "cell_type": "code",
   "execution_count": null,
   "metadata": {},
   "outputs": [],
   "source": [
    "def Hamilt(net, omega, theta):\n",
    "\tH = 0 \n",
    "\tN = len(net)\n",
    "\tfor i in range(N):\n",
    "\t\tfor j in range(N):\n",
    "\t\t\tH += theta[i][j]*net[i][j]\n",
    "\t\t\tfor k in range(N):\n",
    "\t\t\t\tfor l in range(N):\n",
    "\t\t\t\t\tH += -0.5*omega[i][j][k][l]*net[i][j]*net[k][l]\n",
    "\treturn H"
   ]
  },
  {
   "cell_type": "code",
   "execution_count": 47,
   "metadata": {},
   "outputs": [
    {
     "data": {
      "image/png": "[encoded data removed]",
      "text/plain": [
       "<Figure size 640x480 with 1 Axes>"
      ]
     },
     "metadata": {},
     "output_type": "display_data"
    }
   ],
   "source": [
    "skull = read_patern(\"patern/skull.txt\")\n",
    "peng = read_patern(\"patern/peng.txt\")\n",
    "# x, y = patern2point(skull)\n",
    "# plt.imshow(skull, cmap='binary')\n",
    "# plt.scatter(x, y, s=50, c='k')\n",
    "plt.imshow(peng, cmap='binary')\n",
    "plt.show()"
   ]
  },
  {
   "cell_type": "code",
   "execution_count": 48,
   "metadata": {},
   "outputs": [],
   "source": [
    "# Learning fase\n",
    "omega = interaction(peng)\n",
    "theta = activation(peng)"
   ]
  },
  {
   "cell_type": "code",
   "execution_count": 49,
   "metadata": {},
   "outputs": [
    {
     "name": "stdout",
     "output_type": "stream",
     "text": [
      "Paso MoneteCarlo 1\n"
     ]
    },
    {
     "ename": "TypeError",
     "evalue": "'int' object is not subscriptable",
     "output_type": "error",
     "traceback": [
      "\u001b[1;31m---------------------------------------------------------------------------\u001b[0m",
      "\u001b[1;31mTypeError\u001b[0m                                 Traceback (most recent call last)",
      "Cell \u001b[1;32mIn[49], line 20\u001b[0m\n\u001b[0;32m     17\u001b[0m aux_i \u001b[39m=\u001b[39m random\u001b[39m.\u001b[39mrandint(\u001b[39m0\u001b[39m, N\u001b[39m-\u001b[39m\u001b[39m1\u001b[39m)\n\u001b[0;32m     18\u001b[0m aux_j \u001b[39m=\u001b[39m random\u001b[39m.\u001b[39mrandint(\u001b[39m0\u001b[39m, N\u001b[39m-\u001b[39m\u001b[39m1\u001b[39m)\n\u001b[1;32m---> 20\u001b[0m H \u001b[39m=\u001b[39m difH(aux_i[i], aux_j[j], net, omega, theta)\n\u001b[0;32m     21\u001b[0m p \u001b[39m=\u001b[39m np\u001b[39m.\u001b[39mexp(\u001b[39m-\u001b[39mH\u001b[39m/\u001b[39mT)\n\u001b[0;32m     22\u001b[0m \u001b[39mif\u001b[39;00m random\u001b[39m.\u001b[39mrandom() \u001b[39m<\u001b[39m p:\n",
      "\u001b[1;31mTypeError\u001b[0m: 'int' object is not subscriptable"
     ]
    }
   ],
   "source": [
    "# Active fase\n",
    "N = len(peng)\n",
    "net = np.zeros((N, N), dtype=np.uint8)\n",
    "# net = skull.copy()\n",
    "pMC = 15\n",
    "T = 0.0001\n",
    "for k in range(pMC*N*N):\n",
    "\tif k%(N*N) == 0:\n",
    "\t\t# Plot\n",
    "\t\tplt.figure()\n",
    "\t\tplt.imshow(net, cmap='binary')\n",
    "\t\tplt.title(f\"pMC = {k+1}\")\n",
    "\t\tplt.savefig(f\"Plot/pMC{k+1}.png\")\n",
    "\t\tplt.close()\n",
    "\t\n",
    "\t\tprint(f\"Paso MoneteCarlo {k+1}\")\n",
    "\taux_i = random.randint(0, N-1)\n",
    "\taux_j = random.randint(0, N-1)\n",
    "\t\n",
    "\tH = difH(aux_i, aux_j, net, omega, theta)\n",
    "\tp = np.exp(-H/T)\n",
    "\tif random.random() < p:\n",
    "\t\tnet[aux_i][aux_j] = 1 - net[aux_i][aux_j]"
   ]
  },
  {
   "cell_type": "code",
   "execution_count": 45,
   "metadata": {},
   "outputs": [
    {
     "name": "stdout",
     "output_type": "stream",
     "text": [
      "0.04202785241830986\n",
      "[6, 6, 4, 7, 0, 9, 8, 7, 5, 4]\n",
      "0.7102585366633656\n",
      "[6, 1, 10, 2, 10, 1, 8, 10, 7, 2]\n",
      "0.5841075238545702\n",
      "[1, 5, 1, 10, 1, 1, 10, 3, 4, 3]\n",
      "0.44716933740766385\n",
      "[3, 0, 9, 2, 4, 2, 9, 1, 10, 9]\n",
      "0.10913049215492232\n",
      "[1, 1, 4, 3, 4, 8, 0, 3, 7, 3]\n",
      "0.6413400149921838\n",
      "[2, 5, 7, 6, 9, 8, 1, 8, 7, 6]\n",
      "0.9321761250308706\n",
      "[6, 8, 8, 10, 2, 4, 9, 5, 1, 2]\n",
      "0.031979197920211755\n",
      "[0, 4, 3, 7, 2, 1, 1, 3, 9, 5]\n",
      "0.5921688945860291\n",
      "[8, 1, 7, 7, 7, 2, 6, 3, 6, 7]\n",
      "0.7892149943979092\n",
      "[4, 8, 0, 0, 2, 3, 10, 7, 5, 1]\n"
     ]
    }
   ],
   "source": [
    "for i in range(10):\n",
    "\taux = [random.randint(0, 10) for _ in range(10)]\n",
    "\tprint(np.random.random())\n",
    "\tprint(aux)"
   ]
  }
 ],
 "metadata": {
  "kernelspec": {
   "display_name": "Python 3",
   "language": "python",
   "name": "python3"
  },
  "language_info": {
   "codemirror_mode": {
    "name": "ipython",
    "version": 3
   },
   "file_extension": ".py",
   "mimetype": "text/x-python",
   "name": "python",
   "nbconvert_exporter": "python",
   "pygments_lexer": "ipython3",
   "version": "3.11.0"
  },
  "orig_nbformat": 4,
  "vscode": {
   "interpreter": {
    "hash": "8bb183d6f65149bde25a8207ad2fb4989b2757aac3d3ec63796cdeb74924c51a"
   }
  }
 },
 "nbformat": 4,
 "nbformat_minor": 2
}
