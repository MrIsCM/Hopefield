{
 "cells": [
  {
   "attachments": {},
   "cell_type": "markdown",
   "metadata": {},
   "source": [
    "# Metropolis Algorithm - Hopefield Network\n",
    "\n",
    "Ismael CM\n",
    "19/12/2022"
   ]
  },
  {
   "cell_type": "code",
   "execution_count": 70,
   "metadata": {},
   "outputs": [],
   "source": [
    "import numpy as np\n",
    "import matplotlib.pyplot as plt\n",
    "from pathlib import Path\n",
    "import random "
   ]
  },
  {
   "cell_type": "code",
   "execution_count": 71,
   "metadata": {},
   "outputs": [],
   "source": [
    "def read_patern(path='Patern/patern.txt'):\n",
    "\tpatern = np.loadtxt(path, delimiter=',', dtype=np.uint8)\n",
    "\treturn patern"
   ]
  },
  {
   "cell_type": "code",
   "execution_count": 72,
   "metadata": {},
   "outputs": [],
   "source": [
    "einstein = np.loadtxt('Patern/einstein.txt', dtype=str)"
   ]
  },
  {
   "cell_type": "code",
   "execution_count": 73,
   "metadata": {},
   "outputs": [],
   "source": [
    "patern = []\n",
    "for i in range(len(einstein)):\n",
    "\tpatern.append(list(einstein[i]))"
   ]
  },
  {
   "cell_type": "code",
   "execution_count": 74,
   "metadata": {},
   "outputs": [],
   "source": [
    "patern = np.array(patern, dtype=np.uint8)"
   ]
  },
  {
   "cell_type": "code",
   "execution_count": 86,
   "metadata": {},
   "outputs": [
    {
     "data": {
      "text/plain": [
       "<matplotlib.image.AxesImage at 0x15ab44d7fd0>"
      ]
     },
     "execution_count": 86,
     "metadata": {},
     "output_type": "execute_result"
    },
    {
     "data": {
      "image/png": "[encoded data removed]",
      "text/plain": [
       "<Figure size 640x480 with 1 Axes>"
      ]
     },
     "metadata": {},
     "output_type": "display_data"
    }
   ],
   "source": [
    "plt.imshow(patern, cmap='binary')"
   ]
  },
  {
   "cell_type": "code",
   "execution_count": 75,
   "metadata": {},
   "outputs": [
    {
     "data": {
      "text/plain": [
       "(78, 75)"
      ]
     },
     "execution_count": 75,
     "metadata": {},
     "output_type": "execute_result"
    }
   ],
   "source": [
    "patern.shape"
   ]
  },
  {
   "cell_type": "code",
   "execution_count": 76,
   "metadata": {},
   "outputs": [],
   "source": [
    "def patern2point(patern):\n",
    "\t\"\"\"Convert a patern (matrix) to a list of points (x,y) where matrix[i][j] == 1\n",
    "\t\n",
    "\tx = j and y = -i + len(patern)\n",
    "\n",
    "\tExplanation:\n",
    "\t\tj selects the row (vertical movement) and i selects the column (horizontal movement)\n",
    "\t\tIn a plot, x corresponds to the horizontal axis and y to the vertical axis\n",
    "\n",
    "\t\tReversing i (i.e. -i) is necessary because the matrix is read from top to bottom. This is the same as reversing the y axis in a plot, so now everything is in the 4th quadrant.\n",
    "\t\tAdding len(patern) traslates everything to the 1st quadrant.\n",
    "\t\"\"\"\n",
    "\tx = []\n",
    "\ty = []\n",
    "\tfor i in range(len(patern)): \t\t\t# i is the row\n",
    "\t\tfor j in range(len(patern[i])): \t# j is the column\n",
    "\t\t\tif patern[i][j] == 1:\n",
    "\t\t\t\tx.append(j) \t\t    \t\n",
    "\t\t\t\ty.append(-i + len(patern)) \n",
    "\treturn x,y"
   ]
  },
  {
   "cell_type": "code",
   "execution_count": 77,
   "metadata": {},
   "outputs": [],
   "source": [
    "def interaction(net):\n",
    "\ta = np.average(net)\n",
    "\tN = len(net)\n",
    "\tM = len(net[0])\n",
    "\tw = np.zeros((N, M, N, M)) \t\t# All zeros \n",
    "\tfor i in range(N):\n",
    "\t\tfor j in range(M):\n",
    "\t\t\tfor k in range(N):\n",
    "\t\t\t\tfor l in range(M):\n",
    "\t\t\t\t\tif (i,j) != (k,l): \t# so no need to do the case where i,j == k,l\n",
    "\t\t\t\t\t\tw[i][j][k][l] = (1/(N*M)) * (net[i][j] - a)*(net[k][l] - a)\n",
    "\t\t\t\t\t\t\n",
    "\treturn w"
   ]
  },
  {
   "cell_type": "code",
   "execution_count": 78,
   "metadata": {},
   "outputs": [],
   "source": [
    "def activation(net, w=None):\n",
    "\tN = len(net)\n",
    "\tM = len(net[0])\n",
    "\tif w is None:\n",
    "\t\tw = interaction(net)\n",
    "\ttheta = np.zeros((N, M))\n",
    "\tfor i in range(N):\n",
    "\t\tfor j in range(M):\n",
    "\t\t\tfor k in range(N):\n",
    "\t\t\t\tfor l in range(M):\n",
    "\t\t\t\t\ttheta[i][j] += 0.5*w[i][j][k][l]\n",
    "\treturn theta "
   ]
  },
  {
   "cell_type": "code",
   "execution_count": 79,
   "metadata": {},
   "outputs": [],
   "source": [
    "def difH(i, j, net, omega, theta):\n",
    "\tH = 0\n",
    "\tH_alt = 0\n",
    "\tN = len(net)\n",
    "\tM = len(net[0])\n",
    "\tfor k in range(N):\n",
    "\t\tfor l in range(M):\n",
    "\t\t\tif (k != i) and (l != j):\n",
    "\t\t\t\tH += omega[i][j][k][l]*net[k][l]\n",
    "\n",
    "\tH = (2*net[i][j]-1)*(H - theta[i][j]) \n",
    "\treturn H\n"
   ]
  },
  {
   "cell_type": "code",
   "execution_count": 80,
   "metadata": {},
   "outputs": [],
   "source": [
    "def Hamilt(net, omega, theta):\n",
    "\tH = 0 \n",
    "\tN = len(net)\n",
    "\tfor i in range(N):\n",
    "\t\tfor j in range(N):\n",
    "\t\t\tH += theta[i][j]*net[i][j]\n",
    "\t\t\tfor k in range(N):\n",
    "\t\t\t\tfor l in range(N):\n",
    "\t\t\t\t\tH += -0.5*omega[i][j][k][l]*net[i][j]*net[k][l]\n",
    "\treturn H"
   ]
  },
  {
   "cell_type": "code",
   "execution_count": 81,
   "metadata": {},
   "outputs": [],
   "source": [
    "skull = read_patern(\"patern/skull.txt\")\n",
    "peng = read_patern(\"patern/peng.txt\")\n",
    "# x, y = patern2point(skull)\n",
    "# plt.imshow(skull, cmap='binary')\n",
    "# plt.scatter(x, y, s=50, c='k')\n",
    "patern2 = read_patern(\"patern/panda.txt\")"
   ]
  },
  {
   "cell_type": "code",
   "execution_count": 82,
   "metadata": {},
   "outputs": [],
   "source": [
    "def active_phase(net, pMC, T, omega=None, theta=None):\n",
    "\tif omega is None:\n",
    "\t\tomega = interaction(net)\n",
    "\tif theta is None:\n",
    "\t\ttheta = activation(net, omega)\n",
    "\t\t\n",
    "\tN = len(net)\n",
    "\tM = len(net[0])\n",
    "\n",
    "\ts = np.random.randint(2, size=(N, M))\n",
    "\n",
    "\tpMC = pMC*N*M\n",
    "\tfor k in range(pMC):\n",
    "\t\tif k%(N*M) == 0:\n",
    "\t\t\t# Plot\n",
    "\t\t\tplt.figure()\n",
    "\t\t\tplt.imshow(s, cmap='gray')\n",
    "\t\t\tplt.title(f\"pMC = {int((k)/(N*M) + 1)}\")\n",
    "\t\t\tplt.savefig(f\"Plot/pMC{int((k)/(N*M) + 1)}.png\")\n",
    "\t\t\tplt.close()\n",
    "\t\t\t# plt.figure()\n",
    "\t\t\t# plt.imshow(s, cmap='binary')\n",
    "\t\t\t# plt.title(f\"pMC = {int((k)/(N*M) + 1)}\")\n",
    "\t\t\t# plt.savefig(f\"Plot/bin_pMC{int((k)/(N*M) + 1)}.png\")\n",
    "\t\t\t# plt.close()\n",
    "\t\t\t# print(f\"Paso MoneteCarlo {int((k)/(N*M) + 1)}\")\n",
    "\n",
    "\t\taux_i = random.randint(0, N-1)\n",
    "\t\taux_j = random.randint(0, M-1)\n",
    "\t\t\n",
    "\t\tH= difH(aux_i, aux_j, s, omega, theta)\n",
    "\t\tp = np.exp(-H/T, dtype=np.float64)\n",
    "\t\tif p > 1:\n",
    "\t\t\ts[aux_i][aux_j] = 1 - s[aux_i][aux_j]\n",
    "\t\telif random.random() < p:\n",
    "\t\t\ts[aux_i][aux_j] = 1 - s[aux_i][aux_j]\n",
    "\n",
    "\treturn omega, theta\n"
   ]
  },
  {
   "cell_type": "code",
   "execution_count": 83,
   "metadata": {},
   "outputs": [
    {
     "name": "stdout",
     "output_type": "stream",
     "text": [
      "Paso MoneteCarlo 1\n"
     ]
    },
    {
     "name": "stderr",
     "output_type": "stream",
     "text": [
      "C:\\Users\\Denis\\AppData\\Local\\Temp\\ipykernel_10880\\1620340984.py:32: RuntimeWarning: overflow encountered in exp\n",
      "  p = np.exp(-H/T, dtype=np.float64)\n"
     ]
    },
    {
     "name": "stdout",
     "output_type": "stream",
     "text": [
      "Paso MoneteCarlo 2\n",
      "Paso MoneteCarlo 3\n",
      "Paso MoneteCarlo 4\n",
      "Paso MoneteCarlo 5\n",
      "Paso MoneteCarlo 6\n",
      "Paso MoneteCarlo 7\n",
      "Paso MoneteCarlo 8\n",
      "Paso MoneteCarlo 9\n",
      "Paso MoneteCarlo 10\n",
      "Paso MoneteCarlo 11\n",
      "Paso MoneteCarlo 12\n",
      "Paso MoneteCarlo 13\n",
      "Paso MoneteCarlo 14\n",
      "Paso MoneteCarlo 15\n",
      "Paso MoneteCarlo 16\n",
      "Paso MoneteCarlo 17\n",
      "Paso MoneteCarlo 18\n",
      "Paso MoneteCarlo 19\n",
      "Paso MoneteCarlo 20\n"
     ]
    }
   ],
   "source": [
    "omega, theta = active_phase(patern, 20, 1E-4)"
   ]
  },
  {
   "cell_type": "code",
   "execution_count": 84,
   "metadata": {},
   "outputs": [],
   "source": [
    "# # Active fase\n",
    "# N = len(peng)\n",
    "# # net = np.zeros((N, N), dtype=np.uint8)\n",
    "# # net = peng.copy()\n",
    "# net = np.random.randint(2, size=(N, N))\n",
    "# pMC = 25*N*N\n",
    "# T = 0.01\n",
    "# for k in range(pMC):\n",
    "# \tif k%(N*N) == 0:\n",
    "# \t\t# Plot\n",
    "# \t\tplt.figure()\n",
    "# \t\tplt.imshow(net, cmap='binary')\n",
    "# \t\tplt.title(f\"pMC = {int((k)/(N*N) + 1)}\")\n",
    "# \t\tplt.savefig(f\"Plot/pMC{int((k)/(N*N) + 1)}.png\")\n",
    "# \t\tplt.close()\n",
    "# \t\tprint(f\"Paso MoneteCarlo {int((k)/(N*N) + 1)}\")\n",
    "\n",
    "# \taux_i = random.randint(0, N-1)\n",
    "# \taux_j = random.randint(0, N-1)\n",
    "\t\n",
    "# \tH, H_alt = difH(aux_i, aux_j, net, omega, theta)\n",
    "# \tp = np.exp(-H/T)\n",
    "# \tp_alt = np.exp(-H_alt/T)\n",
    "# \tif random.random() < p:\n",
    "# \t\tnet[aux_i][aux_j] = 1 - net[aux_i][aux_j]"
   ]
  }
 ],
 "metadata": {
  "kernelspec": {
   "display_name": "Python 3",
   "language": "python",
   "name": "python3"
  },
  "language_info": {
   "codemirror_mode": {
    "name": "ipython",
    "version": 3
   },
   "file_extension": ".py",
   "mimetype": "text/x-python",
   "name": "python",
   "nbconvert_exporter": "python",
   "pygments_lexer": "ipython3",
   "version": "3.11.0"
  },
  "orig_nbformat": 4,
  "vscode": {
   "interpreter": {
    "hash": "8bb183d6f65149bde25a8207ad2fb4989b2757aac3d3ec63796cdeb74924c51a"
   }
  }
 },
 "nbformat": 4,
 "nbformat_minor": 2
}
