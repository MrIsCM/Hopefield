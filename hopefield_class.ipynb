{
 "cells": [
  {
   "cell_type": "code",
   "execution_count": 1,
   "metadata": {},
   "outputs": [],
   "source": [
    "import numpy as np"
   ]
  },
  {
   "cell_type": "code",
   "execution_count": 4,
   "metadata": {},
   "outputs": [],
   "source": [
    "class HopefieldNetwork:\n",
    "\tdef __init__(self, num_neurons):\n",
    "\t\tself.num_neurons = num_neurons\n",
    "\t\tself.weights = np.zeros((num_neurons, num_neurons))\n",
    "\t\n",
    "\tdef train(self, patterns):\n",
    "\t\tfor pattern in patterns:\n",
    "\t\t\tself.weights += np.matmul(pattern, pattern.T)\n",
    "\t\tnp.fill_diagonal(self.weights, 0)\n",
    "\t\t\n",
    "\tdef recall(self, pattern, max_iterations=100):\n",
    "\t\tfor _ in range(max_iterations):\n",
    "\t\t\tpattern = np.matmul(pattern, self.weights)\n",
    "\t\t\tpattern = np.where(pattern > 0, 1, -1)\n",
    "\t\treturn pattern\n"
   ]
  },
  {
   "cell_type": "code",
   "execution_count": 5,
   "metadata": {},
   "outputs": [],
   "source": [
    "def read_patern(path='Patern/patern.txt'):\n",
    "\tpatern = np.loadtxt(path, delimiter=',', dtype=np.uint8)\n",
    "\treturn patern"
   ]
  },
  {
   "cell_type": "code",
   "execution_count": 8,
   "metadata": {},
   "outputs": [],
   "source": [
    "peng = read_patern(\"Patern\\Peng.txt\")\n",
    "skull = read_patern(\"Patern\\Skull.txt\")"
   ]
  },
  {
   "cell_type": "code",
   "execution_count": 13,
   "metadata": {},
   "outputs": [],
   "source": [
    "network = HopefieldNetwork(25)"
   ]
  },
  {
   "cell_type": "code",
   "execution_count": 14,
   "metadata": {},
   "outputs": [],
   "source": [
    "network.train([peng])"
   ]
  },
  {
   "cell_type": "code",
   "execution_count": null,
   "metadata": {},
   "outputs": [],
   "source": [
    "in_pattern = np.zeros_like(peng)"
   ]
  }
 ],
 "metadata": {
  "kernelspec": {
   "display_name": "Python 3",
   "language": "python",
   "name": "python3"
  },
  "language_info": {
   "codemirror_mode": {
    "name": "ipython",
    "version": 3
   },
   "file_extension": ".py",
   "mimetype": "text/x-python",
   "name": "python",
   "nbconvert_exporter": "python",
   "pygments_lexer": "ipython3",
   "version": "3.11.0"
  },
  "orig_nbformat": 4,
  "vscode": {
   "interpreter": {
    "hash": "8bb183d6f65149bde25a8207ad2fb4989b2757aac3d3ec63796cdeb74924c51a"
   }
  }
 },
 "nbformat": 4,
 "nbformat_minor": 2
}
